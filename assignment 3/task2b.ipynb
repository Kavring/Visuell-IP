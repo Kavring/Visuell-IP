{
 "cells": [
  {
   "cell_type": "code",
   "execution_count": 4,
   "id": "0b6d523e",
   "metadata": {},
   "outputs": [],
   "source": [
    "import utils\n",
    "import numpy as np\n",
    "import matplotlib.pyplot as plt"
   ]
  },
  {
   "cell_type": "code",
   "execution_count": 5,
   "id": "b7024a2a",
   "metadata": {},
   "outputs": [],
   "source": [
    "def region_growing(im: np.ndarray, seed_points: list, T: int) -> np.ndarray:\n",
    "    \"\"\"\n",
    "        A region growing algorithm that segments an image into 1 or 0 (True or False).\n",
    "        Finds candidate pixels with a Moore-neighborhood (8-connectedness). \n",
    "        Uses pixel intensity thresholding with the threshold T as the homogeneity criteria.\n",
    "        The function takes in a grayscale image and outputs a boolean image\n",
    "\n",
    "        args:\n",
    "            im: np.ndarray of shape (H, W) in the range [0, 255] (dtype=np.uint8)\n",
    "            seed_points: list of list containing seed points (row, col). Ex:\n",
    "                [[row1, col1], [row2, col2], ...]\n",
    "            T: integer value defining the threshold to used for the homogeneity criteria.\n",
    "        return:\n",
    "            (np.ndarray) of shape (H, W). dtype=bool\n",
    "    \"\"\"\n",
    "    ### START YOUR CODE HERE ### (You can change anything inside this block)\n",
    "    # You can also define other helper functions\n",
    "    segmented = np.zeros_like(im).astype(bool)\n",
    "    # print(segmented)\n",
    "    im = im.astype(float)\n",
    "    for row, col in seed_points:\n",
    "        segmented= recurse(im, segmented, [row, col],[row, col], T)\n",
    "        \n",
    "        \n",
    "    return segmented\n",
    "#New function to solve it recursively\n",
    "def recurse(im:np.ndarray, segmented:np.zeros_like, pixel:list, seed_point: list, T:int):\n",
    "    im_size= im.shape\n",
    "\n",
    "    for i in range(3):\n",
    "        for j in range(3):\n",
    "            \n",
    "            if (i==1 and j ==1):\n",
    "                continue\n",
    "            \n",
    "            if(pixel[0] -1+i <=0 or pixel[1]-1+j <=0):\n",
    "                continue\n",
    "            if (pixel[0]-1+i >=im_size[0] or pixel[1]-1+i>=im_size[1]):\n",
    "                continue\n",
    "            \n",
    "            # print(segmented)\n",
    "            if (segmented[pixel[0] -1+i, pixel[1]-1 + j] == True):\n",
    "                continue\n",
    "            # print(im[pixel[0]-1 +i , pixel[1] -1 + j] -  im[seed_point[0],seed_point[1]])\n",
    "            if( abs(im[pixel[0]-1 +i , pixel[1] -1 + j] -  im[seed_point[0],seed_point[1]]) < T):\n",
    "                pixel = [pixel[0] -1 + i, pixel[1] -1 + j] \n",
    "                segmented[pixel[0], pixel[1]] = True\n",
    "                # print(pixel)\n",
    "                # print(\"recursing\")\n",
    "                recurse(im, segmented, pixel, seed_point, T)\n",
    "                segmanted = recurse(im, segmented, pixel, seed_point, T)\n",
    "                \n",
    "                \n",
    "    \n",
    "    \n",
    "    return segmented\n",
    "    \n",
    "    ### END YOUR CODE HERE ###"
   ]
  },
  {
   "cell_type": "code",
   "execution_count": 6,
   "id": "ce93bac9",
   "metadata": {},
   "outputs": [
    {
     "name": "stdout",
     "output_type": "stream",
     "text": [
      "Reading image: images/defective-weld.png\n",
      "Saving image to: image_processed/defective-weld-segmented.png\n"
     ]
    }
   ],
   "source": [
    "if __name__ == \"__main__\":\n",
    "    # DO NOT CHANGE\n",
    "    im = utils.read_image(\"defective-weld.png\")\n",
    "\n",
    "    seed_points = [ # (row, column)\n",
    "        [254, 138], # Seed point 1\n",
    "        [253, 296], # Seed point 2\n",
    "        [233, 436], # Seed point 3\n",
    "        [232, 417], # Seed point 4\n",
    "    ]\n",
    "    intensity_threshold = 50\n",
    "    segmented_image = region_growing(im, seed_points, intensity_threshold)\n",
    "\n",
    "    assert im.shape == segmented_image.shape, \"Expected image shape ({}) to be same as thresholded image shape ({})\".format(\n",
    "        im.shape, segmented_image.shape)\n",
    "    assert segmented_image.dtype == bool, \"Expected thresholded image dtype to be bool. Was: {}\".format(\n",
    "            segmented_image.dtype)\n",
    "\n",
    "    segmented_image = utils.to_uint8(segmented_image)\n",
    "    utils.save_im(\"defective-weld-segmented.png\", segmented_image)"
   ]
  }
 ],
 "metadata": {
  "kernelspec": {
   "display_name": "Python 3",
   "language": "python",
   "name": "python3"
  },
  "language_info": {
   "codemirror_mode": {
    "name": "ipython",
    "version": 3
   },
   "file_extension": ".py",
   "mimetype": "text/x-python",
   "name": "python",
   "nbconvert_exporter": "python",
   "pygments_lexer": "ipython3",
   "version": "3.10.12"
  }
 },
 "nbformat": 4,
 "nbformat_minor": 5
}
