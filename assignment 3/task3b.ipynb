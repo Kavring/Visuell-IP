{
 "cells": [
  {
   "cell_type": "code",
   "execution_count": 1,
   "id": "8f4cc61c",
   "metadata": {},
   "outputs": [
    {
     "name": "stderr",
     "output_type": "stream",
     "text": [
      "/usr/lib/python3/dist-packages/scipy/__init__.py:146: UserWarning: A NumPy version >=1.17.3 and <1.25.0 is required for this version of SciPy (detected version 1.26.1\n",
      "  warnings.warn(f\"A NumPy version >={np_minversion} and <{np_maxversion}\"\n"
     ]
    }
   ],
   "source": [
    "import utils\n",
    "import skimage\n",
    "import skimage.morphology\n",
    "import numpy as np\n",
    "import pathlib\n",
    "import matplotlib.pyplot as plt"
   ]
  },
  {
   "cell_type": "code",
   "execution_count": 2,
   "id": "0496709e",
   "metadata": {},
   "outputs": [],
   "source": [
    "def distance_transform(im: np.ndarray) -> np.ndarray:\n",
    "    \"\"\"\n",
    "        A function that computes the distance to the closest boundary pixel.\n",
    "\n",
    "        args:\n",
    "            im: np.ndarray of shape (H, W) with boolean values (dtype=np.bool)\n",
    "        return:\n",
    "            (np.ndarray) of shape (H, W). dtype=np.int32\n",
    "    \"\"\"\n",
    "    ### START YOUR CODE HERE ### (You can change anything inside this block)\n",
    "    # You can also define other helper functions\n",
    "    assert im.dtype == bool\n",
    "    # structuring_element = np.array([\n",
    "    #     [1, 1, 1],\n",
    "    #     [1, 1, 1],\n",
    "    #     [1, 1, 1]\n",
    "    # ], dtype=bool)\n",
    "    \n",
    "    \n",
    "    im_shape=im.shape\n",
    "    #create new object dist_im = np.zeroes_as(im)\n",
    "    dist_im = np.zeros_like(im)\n",
    "    #for each pixel in image:\n",
    "    for row in range(im_shape[0]):\n",
    "        for col in range(im_shape[1]):\n",
    "            if im[row, col]==True:\n",
    "                dist_im[row, col] = shortest_dist(im,[row, col])\n",
    "                # print(\"True\")\n",
    "        \n",
    "        #if pixel is TRUE (1)\n",
    "            #find shortest distance to a false pixel.\n",
    "            #save shortest disance with same placement as pixel in dist_im\n",
    "    \n",
    "    # print(dist_im)\n",
    "    \n",
    "    result = dist_im.astype(np.int32)\n",
    "    return result\n",
    "\n",
    "#define new function: find shortest distance(im, structuring-element?):\n",
    "\n",
    "def shortest_dist(im:np.ndarray, xy:list):\n",
    "    dist =0\n",
    "    dist_placeholder=0\n",
    "    x,y =xy\n",
    "    que=np.array([[x,y]])\n",
    "    visited = np.array([])\n",
    "    im_size = im.size\n",
    "    # breadth first search\n",
    "    while(dist == 0):\n",
    "        np.append(visited, que[0], axis=0)\n",
    "        dist_placeholder+=1\n",
    "        xy=que[0]\n",
    "        x,y =xy\n",
    "        \n",
    "        np.delete(que, 0, axis=0)\n",
    "        \n",
    "        for i in range(3):\n",
    "            for j in range(3):\n",
    "            \n",
    "                if (i==1 and j ==1):#check for self\n",
    "                    continue\n",
    "                if(x -1+i <=0 or y-1+j <=0): #check for oob min\n",
    "                    continue\n",
    "                if (x-1+i >=im_size[0] or y-1+i>=im_size[1]): #check for oob max\n",
    "                    continue\n",
    "                #actual part\n",
    "                #should \n",
    "                if im[x-1+i,y-1 +j]== False:\n",
    "                    dist= dist_placeholder\n",
    "                    print(\"getting the distance\")\n",
    "                else:\n",
    "                    np.append(que, [x-1+i,y-1 +j], axis=0)\n",
    "                    print(\"adding to que\")\n",
    "    \n",
    "        \n",
    "        #based on structuring element: either given or created in code:\n",
    "        #\n",
    "        print(dist)\n",
    "    return dist\n",
    "    ### END YOUR CODE HERE ###"
   ]
  },
  {
   "cell_type": "code",
   "execution_count": 3,
   "id": "fb43730d",
   "metadata": {},
   "outputs": [
    {
     "name": "stdout",
     "output_type": "stream",
     "text": [
      "Reading image: image_processed/noisy-filtered.png\n"
     ]
    },
    {
     "ename": "TypeError",
     "evalue": "'int' object is not subscriptable",
     "output_type": "error",
     "traceback": [
      "\u001b[0;31m---------------------------------------------------------------------------\u001b[0m",
      "\u001b[0;31mTypeError\u001b[0m                                 Traceback (most recent call last)",
      "\u001b[1;32m/home/krisklin/CodeKK/IP/Visuell-IP/assignment 3/task3b.ipynb Cell 3\u001b[0m line \u001b[0;36m4\n\u001b[1;32m      <a href='vscode-notebook-cell:/home/krisklin/CodeKK/IP/Visuell-IP/assignment%203/task3b.ipynb#W2sZmlsZQ%3D%3D?line=1'>2</a>\u001b[0m im \u001b[39m=\u001b[39m utils\u001b[39m.\u001b[39mread_image(\u001b[39m\"\u001b[39m\u001b[39mnoisy-filtered.png\u001b[39m\u001b[39m\"\u001b[39m, image_folder\u001b[39m=\u001b[39mpathlib\u001b[39m.\u001b[39mPath(\u001b[39m\"\u001b[39m\u001b[39mimage_processed\u001b[39m\u001b[39m\"\u001b[39m)) \u001b[39m# <-- This image is created in task3a\u001b[39;00m\n\u001b[1;32m      <a href='vscode-notebook-cell:/home/krisklin/CodeKK/IP/Visuell-IP/assignment%203/task3b.ipynb#W2sZmlsZQ%3D%3D?line=2'>3</a>\u001b[0m binary_image \u001b[39m=\u001b[39m (im \u001b[39m!=\u001b[39m \u001b[39m0\u001b[39m)\n\u001b[0;32m----> <a href='vscode-notebook-cell:/home/krisklin/CodeKK/IP/Visuell-IP/assignment%203/task3b.ipynb#W2sZmlsZQ%3D%3D?line=3'>4</a>\u001b[0m distance \u001b[39m=\u001b[39m distance_transform(binary_image)\n\u001b[1;32m      <a href='vscode-notebook-cell:/home/krisklin/CodeKK/IP/Visuell-IP/assignment%203/task3b.ipynb#W2sZmlsZQ%3D%3D?line=5'>6</a>\u001b[0m \u001b[39massert\u001b[39;00m im\u001b[39m.\u001b[39mshape \u001b[39m==\u001b[39m distance\u001b[39m.\u001b[39mshape, \u001b[39m\"\u001b[39m\u001b[39mExpected image shape (\u001b[39m\u001b[39m{}\u001b[39;00m\u001b[39m) to be same as resulting image shape (\u001b[39m\u001b[39m{}\u001b[39;00m\u001b[39m)\u001b[39m\u001b[39m\"\u001b[39m\u001b[39m.\u001b[39mformat(\n\u001b[1;32m      <a href='vscode-notebook-cell:/home/krisklin/CodeKK/IP/Visuell-IP/assignment%203/task3b.ipynb#W2sZmlsZQ%3D%3D?line=6'>7</a>\u001b[0m         im\u001b[39m.\u001b[39mshape, distance\u001b[39m.\u001b[39mshape)\n\u001b[1;32m      <a href='vscode-notebook-cell:/home/krisklin/CodeKK/IP/Visuell-IP/assignment%203/task3b.ipynb#W2sZmlsZQ%3D%3D?line=7'>8</a>\u001b[0m \u001b[39massert\u001b[39;00m distance\u001b[39m.\u001b[39mdtype \u001b[39m==\u001b[39m np\u001b[39m.\u001b[39mint32, \u001b[39m\"\u001b[39m\u001b[39mExpected resulting image dtype to be np.int32. Was: \u001b[39m\u001b[39m{}\u001b[39;00m\u001b[39m\"\u001b[39m\u001b[39m.\u001b[39mformat(\n\u001b[1;32m      <a href='vscode-notebook-cell:/home/krisklin/CodeKK/IP/Visuell-IP/assignment%203/task3b.ipynb#W2sZmlsZQ%3D%3D?line=8'>9</a>\u001b[0m         distance\u001b[39m.\u001b[39mdtype)\n",
      "\u001b[1;32m/home/krisklin/CodeKK/IP/Visuell-IP/assignment 3/task3b.ipynb Cell 3\u001b[0m line \u001b[0;36m2\n\u001b[1;32m     <a href='vscode-notebook-cell:/home/krisklin/CodeKK/IP/Visuell-IP/assignment%203/task3b.ipynb#W2sZmlsZQ%3D%3D?line=24'>25</a>\u001b[0m     \u001b[39mfor\u001b[39;00m col \u001b[39min\u001b[39;00m \u001b[39mrange\u001b[39m(im_shape[\u001b[39m1\u001b[39m]):\n\u001b[1;32m     <a href='vscode-notebook-cell:/home/krisklin/CodeKK/IP/Visuell-IP/assignment%203/task3b.ipynb#W2sZmlsZQ%3D%3D?line=25'>26</a>\u001b[0m         \u001b[39mif\u001b[39;00m im[row, col]\u001b[39m==\u001b[39m\u001b[39mTrue\u001b[39;00m:\n\u001b[0;32m---> <a href='vscode-notebook-cell:/home/krisklin/CodeKK/IP/Visuell-IP/assignment%203/task3b.ipynb#W2sZmlsZQ%3D%3D?line=26'>27</a>\u001b[0m             dist_im[row, col] \u001b[39m=\u001b[39m shortest_dist(im,[row, col])\n\u001b[1;32m     <a href='vscode-notebook-cell:/home/krisklin/CodeKK/IP/Visuell-IP/assignment%203/task3b.ipynb#W2sZmlsZQ%3D%3D?line=27'>28</a>\u001b[0m             \u001b[39m# print(\"True\")\u001b[39;00m\n\u001b[1;32m     <a href='vscode-notebook-cell:/home/krisklin/CodeKK/IP/Visuell-IP/assignment%203/task3b.ipynb#W2sZmlsZQ%3D%3D?line=28'>29</a>\u001b[0m     \n\u001b[1;32m     <a href='vscode-notebook-cell:/home/krisklin/CodeKK/IP/Visuell-IP/assignment%203/task3b.ipynb#W2sZmlsZQ%3D%3D?line=29'>30</a>\u001b[0m     \u001b[39m#if pixel is TRUE (1)\u001b[39;00m\n\u001b[0;32m   (...)\u001b[0m\n\u001b[1;32m     <a href='vscode-notebook-cell:/home/krisklin/CodeKK/IP/Visuell-IP/assignment%203/task3b.ipynb#W2sZmlsZQ%3D%3D?line=32'>33</a>\u001b[0m \n\u001b[1;32m     <a href='vscode-notebook-cell:/home/krisklin/CodeKK/IP/Visuell-IP/assignment%203/task3b.ipynb#W2sZmlsZQ%3D%3D?line=33'>34</a>\u001b[0m \u001b[39m# print(dist_im)\u001b[39;00m\n\u001b[1;32m     <a href='vscode-notebook-cell:/home/krisklin/CodeKK/IP/Visuell-IP/assignment%203/task3b.ipynb#W2sZmlsZQ%3D%3D?line=35'>36</a>\u001b[0m result \u001b[39m=\u001b[39m dist_im\u001b[39m.\u001b[39mastype(np\u001b[39m.\u001b[39mint32)\n",
      "\u001b[1;32m/home/krisklin/CodeKK/IP/Visuell-IP/assignment 3/task3b.ipynb Cell 3\u001b[0m line \u001b[0;36m6\n\u001b[1;32m     <a href='vscode-notebook-cell:/home/krisklin/CodeKK/IP/Visuell-IP/assignment%203/task3b.ipynb#W2sZmlsZQ%3D%3D?line=61'>62</a>\u001b[0m \u001b[39mif\u001b[39;00m(x \u001b[39m-\u001b[39m\u001b[39m1\u001b[39m\u001b[39m+\u001b[39mi \u001b[39m<\u001b[39m\u001b[39m=\u001b[39m\u001b[39m0\u001b[39m \u001b[39mor\u001b[39;00m y\u001b[39m-\u001b[39m\u001b[39m1\u001b[39m\u001b[39m+\u001b[39mj \u001b[39m<\u001b[39m\u001b[39m=\u001b[39m\u001b[39m0\u001b[39m): \u001b[39m#check for oob min\u001b[39;00m\n\u001b[1;32m     <a href='vscode-notebook-cell:/home/krisklin/CodeKK/IP/Visuell-IP/assignment%203/task3b.ipynb#W2sZmlsZQ%3D%3D?line=62'>63</a>\u001b[0m     \u001b[39mcontinue\u001b[39;00m\n\u001b[0;32m---> <a href='vscode-notebook-cell:/home/krisklin/CodeKK/IP/Visuell-IP/assignment%203/task3b.ipynb#W2sZmlsZQ%3D%3D?line=63'>64</a>\u001b[0m \u001b[39mif\u001b[39;00m (x\u001b[39m-\u001b[39m\u001b[39m1\u001b[39m\u001b[39m+\u001b[39mi \u001b[39m>\u001b[39m\u001b[39m=\u001b[39mim_size[\u001b[39m0\u001b[39;49m] \u001b[39mor\u001b[39;00m y\u001b[39m-\u001b[39m\u001b[39m1\u001b[39m\u001b[39m+\u001b[39mi\u001b[39m>\u001b[39m\u001b[39m=\u001b[39mim_size[\u001b[39m1\u001b[39m]): \u001b[39m#check for oob max\u001b[39;00m\n\u001b[1;32m     <a href='vscode-notebook-cell:/home/krisklin/CodeKK/IP/Visuell-IP/assignment%203/task3b.ipynb#W2sZmlsZQ%3D%3D?line=64'>65</a>\u001b[0m     \u001b[39mcontinue\u001b[39;00m\n\u001b[1;32m     <a href='vscode-notebook-cell:/home/krisklin/CodeKK/IP/Visuell-IP/assignment%203/task3b.ipynb#W2sZmlsZQ%3D%3D?line=65'>66</a>\u001b[0m \u001b[39m#actual part\u001b[39;00m\n\u001b[1;32m     <a href='vscode-notebook-cell:/home/krisklin/CodeKK/IP/Visuell-IP/assignment%203/task3b.ipynb#W2sZmlsZQ%3D%3D?line=66'>67</a>\u001b[0m \u001b[39m#should \u001b[39;00m\n",
      "\u001b[0;31mTypeError\u001b[0m: 'int' object is not subscriptable"
     ]
    }
   ],
   "source": [
    "if __name__ == \"__main__\":\n",
    "    im = utils.read_image(\"noisy-filtered.png\", image_folder=pathlib.Path(\"image_processed\")) # <-- This image is created in task3a\n",
    "    binary_image = (im != 0)\n",
    "    distance = distance_transform(binary_image)\n",
    "\n",
    "    assert im.shape == distance.shape, \"Expected image shape ({}) to be same as resulting image shape ({})\".format(\n",
    "            im.shape, distance.shape)\n",
    "    assert distance.dtype == np.int32, \"Expected resulting image dtype to be np.int32. Was: {}\".format(\n",
    "            distance.dtype)\n",
    "\n",
    "    distance = utils.to_uint8(distance)\n",
    "    plt.imshow(distance, cmap=\"gray\")\n",
    "    plt.show()\n",
    "    utils.save_im(\"noisy-distance.png\", distance)"
   ]
  }
 ],
 "metadata": {
  "kernelspec": {
   "display_name": "Python 3",
   "language": "python",
   "name": "python3"
  },
  "language_info": {
   "codemirror_mode": {
    "name": "ipython",
    "version": 3
   },
   "file_extension": ".py",
   "mimetype": "text/x-python",
   "name": "python",
   "nbconvert_exporter": "python",
   "pygments_lexer": "ipython3",
   "version": "3.10.12"
  }
 },
 "nbformat": 4,
 "nbformat_minor": 5
}
