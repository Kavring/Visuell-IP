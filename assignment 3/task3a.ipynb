{
 "cells": [
  {
   "cell_type": "code",
   "execution_count": 148,
   "id": "1462ce73",
   "metadata": {},
   "outputs": [],
   "source": [
    "import utils\n",
    "import skimage\n",
    "import skimage.morphology\n",
    "import numpy as np\n",
    "import matplotlib.pyplot as plt\n"
   ]
  },
  {
   "cell_type": "code",
   "execution_count": 149,
   "id": "cd224cec",
   "metadata": {},
   "outputs": [],
   "source": [
    "def remove_noise(im: np.ndarray) -> np.ndarray:\n",
    "    \"\"\"\n",
    "        A function that removes noise in the input image.\n",
    "        args:\n",
    "            im: np.ndarray of shape (H, W) with boolean values (dtype=bool)\n",
    "        return:\n",
    "            (np.ndarray) of shape (H, W). dtype=bool\n",
    "    \"\"\"\n",
    "    \n",
    "    ### START YOUR CODE HERE ### (You can change anything inside this block)\n",
    "    # You can also define other helper functions\n",
    "    \n",
    "    x=6\n",
    "    y=13\n",
    "    disk=skimage.morphology.disk(8)\n",
    "    im = skimage.morphology.binary_closing(im, disk)\n",
    "    im = skimage.morphology.binary_opening(im, disk)\n",
    "    \n",
    "    \n",
    "    \n",
    "    #well... this is a stupid solution.....\n",
    "    # for i in range(x):\n",
    "    #     im = skimage.morphology.binary_dilation(im)\n",
    "        \n",
    "    # for i in range(y):\n",
    "    #     im =skimage.morphology.binary_erosion(im)\n",
    "        \n",
    "    # im = skimage.morphology.binary_dilation(im)\n",
    "    # im =skimage.morphology.binary_erosion(im)\n",
    "    \n",
    "    return im\n",
    "    ### END YOUR CODE HERE ###"
   ]
  },
  {
   "cell_type": "code",
   "execution_count": 150,
   "id": "1c3b9abe",
   "metadata": {},
   "outputs": [
    {
     "name": "stdout",
     "output_type": "stream",
     "text": [
      "Reading image: images/noisy.png\n"
     ]
    },
    {
     "data": {
      "image/png": "[encoded data removed]",
      "text/plain": [
       "<Figure size 640x480 with 1 Axes>"
      ]
     },
     "metadata": {},
     "output_type": "display_data"
    },
    {
     "name": "stdout",
     "output_type": "stream",
     "text": [
      "Saving image to: image_processed/noisy-filtered.png\n"
     ]
    }
   ],
   "source": [
    "if __name__ == \"__main__\":\n",
    "    # DO NOT CHANGE\n",
    "    im = utils.read_image(\"noisy.png\")\n",
    "\n",
    "    binary_image = (im != 0)\n",
    "    noise_free_image = remove_noise(binary_image)\n",
    "\n",
    "    assert im.shape == noise_free_image.shape, \"Expected image shape ({}) to be same as resulting image shape ({})\".format(\n",
    "            im.shape, noise_free_image.shape)\n",
    "    assert noise_free_image.dtype == bool, \"Expected resulting image dtype to be bool. Was: {}\".format(\n",
    "            noise_free_image.dtype)\n",
    "\n",
    "    noise_free_image = utils.to_uint8(noise_free_image)\n",
    "    plt.imshow(noise_free_image, cmap=\"binary\")\n",
    "    plt.show()\n",
    "    utils.save_im(\"noisy-filtered.png\", noise_free_image)"
   ]
  }
 ],
 "metadata": {
  "kernelspec": {
   "display_name": "Python 3",
   "language": "python",
   "name": "python3"
  },
  "language_info": {
   "codemirror_mode": {
    "name": "ipython",
    "version": 3
   },
   "file_extension": ".py",
   "mimetype": "text/x-python",
   "name": "python",
   "nbconvert_exporter": "python",
   "pygments_lexer": "ipython3",
   "version": "3.10.12"
  }
 },
 "nbformat": 4,
 "nbformat_minor": 5
}
